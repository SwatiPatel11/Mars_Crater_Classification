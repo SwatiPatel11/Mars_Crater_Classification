{
 "cells": [
  {
   "cell_type": "code",
   "execution_count": 1,
   "metadata": {},
   "outputs": [],
   "source": [
    "# import the modules\n",
    "import pandas as pd\n",
    "import numpy as np\n",
    "import matplotlib.pyplot as plt\n",
    "import seaborn as sns\n",
    "from sklearn.ensemble import RandomForestClassifier\n",
    "from sklearn.feature_selection import RFE\n",
    "from sklearn.model_selection import GridSearchCV, RandomizedSearchCV\n",
    "from sklearn.metrics import accuracy_score,roc_auc_score\n",
    "from sklearn.model_selection import train_test_split\n",
    "from sklearn import tree\n",
    "from sklearn import preprocessing\n",
    "import warnings\n",
    "warnings.filterwarnings(\"ignore\")\n"
   ]
  },
  {
   "cell_type": "markdown",
   "metadata": {},
   "source": [
    "### Load the dataset\n",
    "\n",
    "- Load the train data and using all your knowledge try to explore the different statistical properties of the dataset."
   ]
  },
  {
   "cell_type": "code",
   "execution_count": 2,
   "metadata": {},
   "outputs": [
    {
     "name": "stdout",
     "output_type": "stream",
     "text": [
      "     Id  Unnamed: 0      attr0      attr1      attr2      attr3      attr4  \\\n",
      "0  2216        2216  -4.374765  13.819856  14.656331  -9.728919 -19.334897   \n",
      "1  2673        2673 -13.796261  -4.647589  21.676617  -0.122074  11.228644   \n",
      "2  5603        5603  -2.115400  -3.332400  -6.640000 -13.825000   4.123200   \n",
      "3  6401        6401 -25.531000  66.699000 -13.025000 -31.198000  12.016000   \n",
      "4  6043        6043  18.993000  -5.620000  -9.964900   3.307200   0.999760   \n",
      "\n",
      "       attr5     attr6      attr7  ...    attr1080   attr1081   attr1082  \\\n",
      "0   0.344455  11.10572  21.977302  ...   89.083581  86.194838  93.162055   \n",
      "1  -8.806895  -9.16119  18.025709  ...  100.750899  83.373142  76.902208   \n",
      "2  27.365000   6.70020   3.783000  ...   52.917000  34.799000  42.562000   \n",
      "3  19.365000   5.04510  20.418000  ...   49.488000  71.633000  66.757000   \n",
      "4 -10.920000 -11.39200   3.918500  ...   84.508000  89.976000  61.169000   \n",
      "\n",
      "     attr1083    attr1084    attr1085    attr1086    attr1087    attr1088  \\\n",
      "0  100.883355  123.558503  112.831384  100.583377  102.194939  120.306692   \n",
      "1   72.182997  102.843819   93.118477   80.338570   80.196648   93.995657   \n",
      "2   51.161000   77.139000   73.367000   50.733000   39.949000   60.731000   \n",
      "3   69.213000   97.606000   81.416000   53.808000   41.489000   71.825000   \n",
      "4   33.132000   58.043000   54.522000   80.941000   53.000000   80.615000   \n",
      "\n",
      "   attr1089  \n",
      "0         0  \n",
      "1         0  \n",
      "2         0  \n",
      "3         0  \n",
      "4         1  \n",
      "\n",
      "[5 rows x 1092 columns]\n",
      "(5892, 1092)\n",
      "<class 'pandas.core.frame.DataFrame'>\n",
      "RangeIndex: 5892 entries, 0 to 5891\n",
      "Columns: 1092 entries, Id to attr1089\n",
      "dtypes: float64(1089), int64(3)\n",
      "memory usage: 49.1 MB\n",
      "None\n",
      "                Id   Unnamed: 0        attr0        attr1        attr2  \\\n",
      "count  5892.000000  5892.000000  5892.000000  5892.000000  5892.000000   \n",
      "mean   3681.340292  3681.340292    -0.373974    -1.762581    -2.399157   \n",
      "std    2122.502005  2122.502005    19.005061    18.904327    19.708097   \n",
      "min       0.000000     0.000000  -101.232277  -109.938104  -122.710953   \n",
      "25%    1860.500000  1860.500000    -9.974910   -10.567912   -11.342409   \n",
      "50%    3666.500000  3666.500000    -1.169285    -1.734872    -1.916882   \n",
      "75%    5529.250000  5529.250000     8.088711     6.708988     6.939261   \n",
      "max    7363.000000  7363.000000   103.030000    98.758000   117.847134   \n",
      "\n",
      "             attr3        attr4        attr5        attr6        attr7  ...  \\\n",
      "count  5892.000000  5892.000000  5892.000000  5892.000000  5892.000000  ...   \n",
      "mean     -0.880143     1.465430     2.372116     2.646721     1.307644  ...   \n",
      "std      19.498525    19.246788    19.007280    18.665336    18.628544  ...   \n",
      "min    -130.233622  -121.622267  -113.427107  -115.792626  -113.502901  ...   \n",
      "25%      -9.517605    -7.759939    -6.992407    -6.411782    -8.314056  ...   \n",
      "50%      -0.694444     0.778408     1.191996     1.472211     0.332601  ...   \n",
      "75%       8.372789    10.025869    11.309062    10.545387     9.940408  ...   \n",
      "max     133.952332   119.970291   120.372886   138.168220   150.041348  ...   \n",
      "\n",
      "          attr1080     attr1081     attr1082     attr1083     attr1084  \\\n",
      "count  5892.000000  5892.000000  5892.000000  5892.000000  5892.000000   \n",
      "mean     64.355592    64.060565    65.151470    65.760824    73.686637   \n",
      "std      27.608675    27.160091    26.302320    27.853332    31.177951   \n",
      "min      -0.885401    -6.213108   -13.505425    -5.031128    -4.929334   \n",
      "25%      43.626956    44.151937    45.818750    44.788432    50.747149   \n",
      "50%      65.892997    65.445500    66.711206    67.267985    76.424331   \n",
      "75%      83.027536    82.445932    82.609121    85.014764    94.923375   \n",
      "max     140.886327   153.401666   154.504591   154.165419   169.285543   \n",
      "\n",
      "          attr1085     attr1086     attr1087     attr1088     attr1089  \n",
      "count  5892.000000  5892.000000  5892.000000  5892.000000  5892.000000  \n",
      "mean     72.352308    66.460347    65.761215    71.488944     0.522743  \n",
      "std      30.378555    29.839891    30.972092    31.880657     0.499525  \n",
      "min      -6.497632   -12.916041   -13.147479   -10.248464     0.000000  \n",
      "25%      49.581948    44.687840    42.196264    47.328044     0.000000  \n",
      "50%      75.085000    68.381334    67.002327    75.015546     1.000000  \n",
      "75%      92.585118    86.712733    86.658053    92.341037     1.000000  \n",
      "max     163.534993   151.976611   180.600246   193.055151     1.000000  \n",
      "\n",
      "[8 rows x 1092 columns]\n"
     ]
    }
   ],
   "source": [
    "# Code starts here\n",
    "train = pd.read_csv('train.csv')\n",
    "#print(train.head(5))\n",
    "print(train.shape)\n",
    "#print(train.info())\n",
    "#print(train.describe())\n",
    "print(train.skew())\n",
    "\n",
    "\n",
    "# Code ends here"
   ]
  },
  {
   "cell_type": "markdown",
   "metadata": {},
   "source": [
    "### Visualize the data\n",
    "\n",
    "- Check the distribution of the target variable. Is the data imbalanced?\n",
    "- Clean the data, apply some data preprocessing and engineering techniques."
   ]
  },
  {
   "cell_type": "code",
   "execution_count": null,
   "metadata": {},
   "outputs": [],
   "source": [
    "# Code starts here\n",
    "\n",
    "train['attr1089'].value_counts().plot(kind='bar')\n",
    "\n",
    "plt.figure(figsize=(32,28))\n",
    "sns.heatmap(train.corr(),cmap='viridis',annot=True)\n",
    "\n",
    "# Code ends here."
   ]
  },
  {
   "cell_type": "markdown",
   "metadata": {},
   "source": [
    "### Model building\n",
    "\n",
    "- Split the data into train and test.\n",
    "- Now let's come to the actual task, predict the values of `attr1089` after building a Machine learning model.\n",
    "- Try improving upon the `roc_auc_score` ([ROC-AUC Score](https://scikit-learn.org/stable/modules/generated/sklearn.metrics.roc_auc_score.html#sklearn.metrics.roc_auc_score))"
   ]
  },
  {
   "cell_type": "code",
   "execution_count": 3,
   "metadata": {},
   "outputs": [],
   "source": [
    "# Code Starts here\n",
    "X = train.iloc[:,:-1]\n",
    "y = train.iloc[:,-1]\n",
    "\n",
    "# Separate into train and test data\n",
    "X_train, X_val, y_train, y_val = train_test_split(X,y,random_state=42,test_size=0.2)\n",
    "\n",
    "# Code ends here"
   ]
  },
  {
   "cell_type": "code",
   "execution_count": 8,
   "metadata": {},
   "outputs": [
    {
     "name": "stdout",
     "output_type": "stream",
     "text": [
      "0.9207839262187089\n"
     ]
    }
   ],
   "source": [
    "# Fitting a Random Forest model on the train data and predict on the test data\n",
    "# It will take a long time to execute\n",
    "model = RandomForestClassifier(n_estimators=100,random_state=8,n_jobs=4)\n",
    "rfe = RFE(model, 42)\n",
    "X_train_rfe = rfe.fit_transform(X_train, y_train)\n",
    "X_test_rfe = rfe.transform(X_val)\n",
    "model.fit(X_train_rfe,y_train)\n",
    "y_pred_rfe = model.predict(X_test_rfe)\n",
    "print(roc_auc_score(y_val,y_pred_rfe))"
   ]
  },
  {
   "cell_type": "markdown",
   "metadata": {},
   "source": [
    "### Prediction on the test data and creating the sample submission file.\n",
    "\n",
    "- Load the test data and store the `Id` column in a separate variable.\n",
    "- Perform the same operations on the test data that you have performed on the train data.\n",
    "- Create the submission file as a `csv` file consisting of the `Id` column from the test data and your prediction as the second column."
   ]
  },
  {
   "cell_type": "code",
   "execution_count": 9,
   "metadata": {},
   "outputs": [],
   "source": [
    "# Code Starts here\n",
    "\n",
    "test = pd.read_csv('test.csv')\n",
    "# Storing the id from the test file\n",
    "id_ = test['Id']\n",
    "\n",
    "# Applying rfe on test data\n",
    "test_rfe = rfe.transform(test)\n",
    "\n",
    "# Predict on the test data\n",
    "y_pred_test = model.predict(test_rfe)\n",
    "\n",
    "# Create a sample submission file\n",
    "sample_submission_result = pd.DataFrame({'Id':id_,'attr1089':y_pred_test})\n",
    "\n",
    "# Convert the sample submission file into a csv file\n",
    "sample_submission_result.to_csv('sample_submission_result.csv',index=False)\n",
    "\n",
    "# Code ends here"
   ]
  }
 ],
 "metadata": {
  "kernelspec": {
   "display_name": "Python 3",
   "language": "python",
   "name": "python3"
  },
  "language_info": {
   "codemirror_mode": {
    "name": "ipython",
    "version": 3
   },
   "file_extension": ".py",
   "mimetype": "text/x-python",
   "name": "python",
   "nbconvert_exporter": "python",
   "pygments_lexer": "ipython3",
   "version": "3.8.5"
  }
 },
 "nbformat": 4,
 "nbformat_minor": 2
}
